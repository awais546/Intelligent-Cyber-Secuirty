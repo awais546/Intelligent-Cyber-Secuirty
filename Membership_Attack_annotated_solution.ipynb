{
  "nbformat": 4,
  "nbformat_minor": 0,
  "metadata": {
    "colab": {
      "name": "Membership Attack - annotated solution.ipynb",
      "provenance": [],
      "include_colab_link": true
    },
    "kernelspec": {
      "name": "python3",
      "display_name": "Python 3"
    },
    "accelerator": "GPU"
  },
  "cells": [
    {
      "cell_type": "markdown",
      "metadata": {
        "id": "view-in-github",
        "colab_type": "text"
      },
      "source": [
        "<a href=\"https://colab.research.google.com/github/awais546/Intelligent-Cyber-Secuirty/blob/master/Membership_Attack_annotated_solution.ipynb\" target=\"_parent\"><img src=\"https://colab.research.google.com/assets/colab-badge.svg\" alt=\"Open In Colab\"/></a>"
      ]
    },
    {
      "cell_type": "code",
      "metadata": {
        "id": "OvK6LaVhrfZ8",
        "colab_type": "code",
        "colab": {}
      },
      "source": [
        "# required imports\n",
        "import sys \n",
        "import numpy as np \n",
        "import matplotlib.pyplot as plt\n",
        "%matplotlib inline  \n",
        "\n",
        "\n",
        "import torch\n",
        "import torchvision \n",
        "import torchvision.transforms as transforms\n",
        "import torch.optim as optim\n",
        "import torch.nn as nn\n",
        "import torch.nn.functional as F\n",
        "from torch.utils.data.sampler import SubsetRandomSampler"
      ],
      "execution_count": 0,
      "outputs": []
    },
    {
      "cell_type": "code",
      "metadata": {
        "id": "O05dkTKAsEh-",
        "colab_type": "code",
        "outputId": "6fee81f8-8550-4857-e56c-71d4db2a97bb",
        "colab": {
          "base_uri": "https://localhost:8080/",
          "height": 35
        }
      },
      "source": [
        "# mount the google drive to download the datasets\n",
        "from google.colab import drive\n",
        "drive.mount('/content/drive')\n",
        "project_path = 'content/drive/My Drive/'"
      ],
      "execution_count": 11,
      "outputs": [
        {
          "output_type": "stream",
          "text": [
            "Drive already mounted at /content/drive; to attempt to forcibly remount, call drive.mount(\"/content/drive\", force_remount=True).\n"
          ],
          "name": "stdout"
        }
      ]
    },
    {
      "cell_type": "code",
      "metadata": {
        "id": "pEW1mLverl7l",
        "colab_type": "code",
        "colab": {}
      },
      "source": [
        "# create transforms to load the images, nothing much is needed here. \n",
        "transform = transforms.Compose(\n",
        "    [transforms.ToTensor(),\n",
        "     transforms.Normalize((0.5, 0.5, 0.5), (0.5, 0.5, 0.5))])"
      ],
      "execution_count": 0,
      "outputs": []
    },
    {
      "cell_type": "code",
      "metadata": {
        "id": "sjsFJTFwr1wV",
        "colab_type": "code",
        "outputId": "c79dc0d8-fd19-417c-82e6-dc29c3a227c4",
        "colab": {
          "base_uri": "https://localhost:8080/",
          "height": 54
        }
      },
      "source": [
        "# download CIFAR 10 training set\n",
        "trainset = torchvision.datasets.CIFAR10(root= project_path+'/data', train=True,\n",
        "                                        download=True, transform=transform)\n",
        "\n",
        "# load the trainning set\n",
        "trainloader = torch.utils.data.DataLoader(trainset, batch_size=4, shuffle=True)\n",
        "\n",
        "# download the test data\n",
        "testset = torchvision.datasets.CIFAR10(root=project_path+'/data', train=False,\n",
        "                                       download=True, transform=transform)\n",
        "\n",
        "# load the test data\n",
        "testloader = torch.utils.data.DataLoader(testset, batch_size=4,\n",
        "                                         shuffle=False)\n",
        "\n",
        "classes = ('plane', 'car', 'bird', 'cat', 'deer', 'dog', 'frog', 'horse', 'ship', 'truck')\n",
        "# check those manually on the dataset site: https://www.cs.toronto.edu/~kriz/cifar.html \n"
      ],
      "execution_count": 13,
      "outputs": [
        {
          "output_type": "stream",
          "text": [
            "Files already downloaded and verified\n",
            "Files already downloaded and verified\n"
          ],
          "name": "stdout"
        }
      ]
    },
    {
      "cell_type": "code",
      "metadata": {
        "id": "itY7G_y3tDnC",
        "colab_type": "code",
        "outputId": "14593e9b-d8f7-439d-d58c-0dafdc9a3312",
        "colab": {
          "base_uri": "https://localhost:8080/",
          "height": 156
        }
      },
      "source": [
        "# helper function to unnormalize and plot image \n",
        "def imshow(img):\n",
        "    img = np.array(img)\n",
        "    img = img / 2 + 0.5\n",
        "    img = np.moveaxis(img, 0, -1)\n",
        "    plt.imshow(img)\n",
        "    \n",
        "# display sample from dataset \n",
        "imgs, labels = iter(trainloader).next()\n",
        "imshow(torchvision.utils.make_grid(imgs)) \n",
        "\n",
        "# notice who we converted the class idx to labels\n",
        "print(' '.join('%5s' % classes[labels[j]] for j in range(4)))\n",
        "\n",
        "# run this cell multiple times and notice diff images\n"
      ],
      "execution_count": 14,
      "outputs": [
        {
          "output_type": "stream",
          "text": [
            "truck plane  frog  bird\n"
          ],
          "name": "stdout"
        },
        {
          "output_type": "display_data",
          "data": {
            "image/png": "[encoded data removed]",
            "text/plain": [
              "<Figure size 432x288 with 1 Axes>"
            ]
          },
          "metadata": {
            "tags": []
          }
        }
      ]
    },
    {
      "cell_type": "code",
      "metadata": {
        "id": "AJK32k42gbEK",
        "colab_type": "code",
        "outputId": "df0e27a4-e498-4582-c29e-22a98012842b",
        "colab": {
          "base_uri": "https://localhost:8080/",
          "height": 35
        }
      },
      "source": [
        "# divide the training dataset into the required groups Make sure they are balanced\n",
        "\n",
        "total_size = len(trainset)\n",
        "split1 = total_size // 4\n",
        "split2 = split1 * 2\n",
        "split3 = split1 * 3\n",
        "\n",
        "print(total_size, split1, split2, split3)\n",
        "\n",
        "indices = list(range(total_size))\n",
        "\n",
        "# two groups to train the shadow (in and out)\n",
        "shadow_train_idx = indices[:split1]\n",
        "shadow_out_idx = indices[split1:split2]\n",
        "\n",
        "# two groups to train the Target (in and out)\n",
        "target_train_idx = indices[split2:split3]\n",
        "target_out_idx = indices[split3:]"
      ],
      "execution_count": 15,
      "outputs": [
        {
          "output_type": "stream",
          "text": [
            "50000 12500 25000 37500\n"
          ],
          "name": "stdout"
        }
      ]
    },
    {
      "cell_type": "code",
      "metadata": {
        "id": "W4wJ_0lkhp76",
        "colab_type": "code",
        "colab": {}
      },
      "source": [
        "batch_size = 64\n",
        "\n",
        "# divide and load shadow train in and out\n",
        "shadow_train_sampler = SubsetRandomSampler(shadow_train_idx)\n",
        "shadow_out_sampler = SubsetRandomSampler(shadow_out_idx)\n",
        "\n",
        "shadow_train_loader = torch.utils.data.DataLoader(trainset, batch_size=batch_size, sampler=shadow_train_sampler)\n",
        "shadow_out_loader = torch.utils.data.DataLoader(trainset, batch_size=batch_size, sampler=shadow_out_sampler)\n",
        "\n",
        "# divide and load Target in and out\n",
        "target_train_sampler = SubsetRandomSampler(target_train_idx)\n",
        "target_out_sampler = SubsetRandomSampler(target_out_idx)\n",
        "\n",
        "target_train_loader = torch.utils.data.DataLoader(trainset, batch_size=batch_size, sampler=target_train_sampler)\n",
        "target_out_loader = torch.utils.data.DataLoader(trainset, batch_size=batch_size, sampler=target_out_sampler)\n"
      ],
      "execution_count": 0,
      "outputs": []
    },
    {
      "cell_type": "code",
      "metadata": {
        "id": "Kj9LuQJNuCXC",
        "colab_type": "code",
        "colab": {}
      },
      "source": [
        "# create a CNN\n",
        "# Input shape (3, 32, 32) \n",
        "# architecture: simple. 2 conv and 2 Max pool, followed by 2 fc (120, 84) output of fc is 10 cuz we have 10 classes!\n",
        "\n",
        "\n",
        "\n",
        "class Net(nn.Module):\n",
        "    def __init__(self):\n",
        "        super(Net, self).__init__()\n",
        "        self.conv1 = nn.Conv2d(3, 6, 5) # input channels = 3, output channels=6, kernel_size =5 \n",
        "        self.pool = nn.MaxPool2d(2, 2)  # kernel size = 2, stride = 2\n",
        "        self.conv2 = nn.Conv2d(6, 16, 5) \n",
        "        \n",
        "        self.fc1 = nn.Linear(16 * 5 * 5, 120)\n",
        "        self.fc2 = nn.Linear(120, 84)\n",
        "        self.fc3 = nn.Linear(84, 10)\n",
        "\n",
        "    def forward(self, x):\n",
        "        x = self.pool(F.relu(self.conv1(x)))\n",
        "        x = self.pool(F.relu(self.conv2(x)))\n",
        "        x = x.view(-1, 16 * 5 * 5)\n",
        "        x = F.relu(self.fc1(x))\n",
        "        x = F.relu(self.fc2(x))\n",
        "        x = self.fc3(x)\n",
        "        return x"
      ],
      "execution_count": 0,
      "outputs": []
    },
    {
      "cell_type": "code",
      "metadata": {
        "id": "ER_B4V8YjKyU",
        "colab_type": "code",
        "outputId": "d28b88c0-8f9a-4679-e5bf-e5e455da32bb",
        "colab": {
          "base_uri": "https://localhost:8080/",
          "height": 35
        }
      },
      "source": [
        "# initalize a target model and train it\n",
        "\n",
        "target_model = Net()\n",
        "criterion = nn.CrossEntropyLoss()\n",
        "optimizer = optim.SGD(target_model.parameters(), lr=0.01)\n",
        "\n",
        "# let the magic begin\n",
        "for epoch in range(2):  # loop over the dataset multiple times\n",
        "\n",
        "    running_loss = 0.0\n",
        "    \n",
        "    for i, data in enumerate(target_train_loader, 0):\n",
        "        # get the inputs; data is a list of [inputs, labels]\n",
        "        inputs, labels = data\n",
        "\n",
        "        # zero the parameter gradients\n",
        "        optimizer.zero_grad()\n",
        "\n",
        "        # forward + backward + optimize\n",
        "        outputs = target_model(inputs) # make a prediction: forward prop\n",
        "        \n",
        "        loss = criterion(outputs, labels) # calculate the loss\n",
        "        \n",
        "        loss.backward() # calculate gradients\n",
        "        \n",
        "        optimizer.step() # updaate weights in backprop\n",
        "\n",
        "        # print statistics\n",
        "        running_loss += loss.item()\n",
        "       \n",
        "        \n",
        "        if i % 2000 == 1999:    # print every 2000 mini-batches\n",
        "            print('[%d, %5d] loss: %.3f' %\n",
        "                  (epoch + 1, i + 1, running_loss / 2000))\n",
        "            running_loss = 0.0\n",
        "\n",
        "print('Finished Training the Target model')"
      ],
      "execution_count": 18,
      "outputs": [
        {
          "output_type": "stream",
          "text": [
            "Finished Training the Target model\n"
          ],
          "name": "stdout"
        }
      ]
    },
    {
      "cell_type": "code",
      "metadata": {
        "id": "EpY8ktdskRQN",
        "colab_type": "code",
        "outputId": "cb5173da-1cd9-4988-a4ec-12e7e7a8a3eb",
        "colab": {
          "base_uri": "https://localhost:8080/",
          "height": 35
        }
      },
      "source": [
        "# calculate the accuracy of the Target Model\n",
        "correct = 0\n",
        "total = 0\n",
        "\n",
        "with torch.no_grad():\n",
        "    for data in target_out_loader:\n",
        "        images, labels = data\n",
        "        outputs = target_model(images)\n",
        "        _, predicted = torch.max(outputs.data, 1)\n",
        "        total += labels.size(0)\n",
        "        correct += (predicted == labels).sum().item()\n",
        "\n",
        "print('Accuracy of the network on the 10000 test images: %d %%' % (\n",
        "    100 * correct / total))"
      ],
      "execution_count": 19,
      "outputs": [
        {
          "output_type": "stream",
          "text": [
            "Accuracy of the network on the 10000 test images: 13 %\n"
          ],
          "name": "stdout"
        }
      ]
    },
    {
      "cell_type": "code",
      "metadata": {
        "id": "dkA5aQEPRalg",
        "colab_type": "code",
        "colab": {}
      },
      "source": [
        "shadow_model = Net()\n",
        "shadow_criterion = nn.CrossEntropyLoss()\n",
        "shadow_optimizer = optim.SGD(shadow_model.parameters(), lr=0.0001)\n",
        "\n",
        "# let the magic begin\n",
        "\n",
        "shadow_running_loss = 0.0\n",
        "\n",
        "\n",
        "# get the inputs; data is a list of [inputs, labels]\n",
        "inputs, labels = next(iter(shadow_train_loader))\n",
        "\n",
        "# zero the parameter gradients\n",
        "optimizer.zero_grad()\n",
        "\n",
        "# forward + backward + optimize\n",
        "outputs = shadow_model(inputs)"
      ],
      "execution_count": 0,
      "outputs": []
    },
    {
      "cell_type": "code",
      "metadata": {
        "id": "ugIJ1b0HRxyy",
        "colab_type": "code",
        "colab": {
          "base_uri": "https://localhost:8080/",
          "height": 54
        },
        "outputId": "be8dccba-ad3a-474b-ce99-e38637cca8e2"
      },
      "source": [
        "print(outputs.shape)\n",
        "print(labels.shape)\n"
      ],
      "execution_count": 15,
      "outputs": [
        {
          "output_type": "stream",
          "text": [
            "torch.Size([64, 10])\n",
            "torch.Size([64])\n"
          ],
          "name": "stdout"
        }
      ]
    },
    {
      "cell_type": "markdown",
      "metadata": {
        "id": "IEClKFqikmUl",
        "colab_type": "text"
      },
      "source": [
        "\n",
        "\n",
        "---\n",
        "\n"
      ]
    },
    {
      "cell_type": "code",
      "metadata": {
        "id": "Ha_VqRVVkoCm",
        "colab_type": "code",
        "outputId": "d1122541-d20f-4738-bdbf-1e38c7cb64ef",
        "colab": {
          "base_uri": "https://localhost:8080/",
          "height": 399
        }
      },
      "source": [
        "# initalize a Shadow Model and Train it\n",
        "# for the first ICP trail use the same CNN architecture and hyperparameters\n",
        "\n",
        "shadow_model = Net()\n",
        "shadow_criterion = nn.CrossEntropyLoss()\n",
        "shadow_optimizer = optim.SGD(shadow_model.parameters(), lr=0.0001)\n",
        "\n",
        "# let the magic begin\n",
        "for epoch in range(20):  # loop over the dataset multiple times\n",
        "\n",
        "    shadow_running_loss = 0.0\n",
        "    \n",
        "    for i, data in enumerate(shadow_train_loader, 0):\n",
        "        # get the inputs; data is a list of [inputs, labels]\n",
        "        inputs, labels = data\n",
        "\n",
        "        # zero the parameter gradients\n",
        "        optimizer.zero_grad()\n",
        "\n",
        "        # forward + backward + optimize\n",
        "        outputs = shadow_model(inputs) # make a prediction: forward prop\n",
        "        \n",
        "        shadow_loss = shadow_criterion(outputs, labels) # calculate the loss\n",
        "        \n",
        "        shadow_loss.backward # calculate gradients\n",
        "        \n",
        "        shadow_optimizer.step() # updaate weights in backprop\n",
        "\n",
        "        # print statistics\n",
        "        shadow_running_loss += shadow_loss.item()\n",
        "       \n",
        "    print(shadow_running_loss / len(shadow_train_loader))\n",
        "    shadow_running_loss = 0.0\n",
        "\n",
        "print('Finished Training the Shadow model')"
      ],
      "execution_count": 43,
      "outputs": [
        {
          "output_type": "stream",
          "text": [
            "2.30525280018242\n",
            "2.3052362021134822\n",
            "2.3052425542656256\n",
            "2.3051964506811027\n",
            "2.305379655896401\n",
            "2.305260993996445\n",
            "2.3053575669016158\n",
            "2.3052587898410097\n",
            "2.305235323857288\n",
            "2.30527040301537\n",
            "2.3052659119878496\n",
            "2.3052732117322026\n",
            "2.3053241615392723\n",
            "2.3052389646063047\n",
            "2.305254109051763\n",
            "2.305341189004937\n",
            "2.3052948603824692\n",
            "2.305239582548336\n",
            "2.3052076113467312\n",
            "2.305237761565617\n",
            "Finished Training the Shadow model\n"
          ],
          "name": "stdout"
        }
      ]
    },
    {
      "cell_type": "code",
      "metadata": {
        "id": "OXdSHkaJYClG",
        "colab_type": "code",
        "colab": {}
      },
      "source": [
        "inputs = ''\n",
        "labels = ''\n",
        "for i, data in enumerate(shadow_train_loader, 0):\n",
        "  inputss, label = data\n",
        "  break"
      ],
      "execution_count": 0,
      "outputs": []
    },
    {
      "cell_type": "code",
      "metadata": {
        "id": "wt_EGszDYM8s",
        "colab_type": "code",
        "outputId": "cf7aa0ec-2ced-40b3-a415-598d52a052f0",
        "colab": {
          "base_uri": "https://localhost:8080/",
          "height": 35
        }
      },
      "source": [
        "inputs[0].shape"
      ],
      "execution_count": 17,
      "outputs": [
        {
          "output_type": "execute_result",
          "data": {
            "text/plain": [
              "torch.Size([3, 32, 32])"
            ]
          },
          "metadata": {
            "tags": []
          },
          "execution_count": 17
        }
      ]
    },
    {
      "cell_type": "code",
      "metadata": {
        "id": "L0kP_-62ljFE",
        "colab_type": "code",
        "colab": {}
      },
      "source": [
        "# freeze the Shadow model \n",
        "# make predictions on both datasets (shadow_in and shdow_out)\n",
        "# create a new dataset of the shape [predictions(shadow_in), 1], [predicitons(shadow_out), 1] and zip them together\n",
        "\n",
        "new_dataset = []\n",
        "for i, data in enumerate(shadow_train_loader, 0):\n",
        "  # get the inputs; data is a list of [inputs, labels]\n",
        "  inputs, labels = data\n",
        "  temp = []\n",
        "  # forward + backward + optimize\n",
        "  outputs = shadow_model(inputs) # make a prediction: forward prop\n",
        "  temp = [[e,1] for e in outputs]\n",
        "  for each in temp:\n",
        "    new_dataset.append(each)\n",
        "\n"
      ],
      "execution_count": 0,
      "outputs": []
    },
    {
      "cell_type": "code",
      "metadata": {
        "id": "JOSlL9knODPY",
        "colab_type": "code",
        "colab": {}
      },
      "source": [
        "for i, data in enumerate(shadow_out_loader, 0):\n",
        "  # get the inputs; data is a list of [inputs, labels]\n",
        "  inputs, labels = data\n",
        "  temp = []\n",
        "  # forward + backward + optimize\n",
        "  outputs = shadow_model(inputs) # make a prediction: forward prop\n",
        "  temp = [[e,0] for e in outputs]\n",
        "  for each in temp:\n",
        "    new_dataset.append(each)"
      ],
      "execution_count": 0,
      "outputs": []
    },
    {
      "cell_type": "code",
      "metadata": {
        "id": "4ItRMIm4RCb0",
        "colab_type": "code",
        "colab": {}
      },
      "source": [
        "class attack_Net(nn.Module):\n",
        "    def __init__(self):\n",
        "        super().__init__()       \n",
        "        self.hidden = nn.Linear(10, 256)\n",
        "        # Output layer, 10 units - one for each digit\n",
        "        self.output = nn.Linear(256, 2)\n",
        "        \n",
        "        # Define sigmoid activation and softmax output \n",
        "        self.sigmoid = nn.Sigmoid()\n",
        "        self.softmax = nn.Softmax(dim=1)\n",
        "\n",
        "    def forward(self, x):\n",
        "        x = self.hidden(x)\n",
        "        x = self.sigmoid(x)\n",
        "        x = self.output(x)\n",
        "        x = self.softmax(x)\n",
        "        \n",
        "        return x"
      ],
      "execution_count": 0,
      "outputs": []
    },
    {
      "cell_type": "code",
      "metadata": {
        "id": "zphWtIu6SKhO",
        "colab_type": "code",
        "colab": {}
      },
      "source": [
        "import random\n",
        "random.shuffle(new_dataset)"
      ],
      "execution_count": 0,
      "outputs": []
    },
    {
      "cell_type": "code",
      "metadata": {
        "id": "Tf6uAKx_SVpV",
        "colab_type": "code",
        "colab": {}
      },
      "source": [
        "new_dataset_test = new_dataset[:15000]\n",
        "new_dataset_train = new_dataset[15000:]\n"
      ],
      "execution_count": 0,
      "outputs": []
    },
    {
      "cell_type": "code",
      "metadata": {
        "id": "oQqFSSU_kgTZ",
        "colab_type": "code",
        "colab": {}
      },
      "source": [
        "attack_trainloader = torch.utils.data.DataLoader(new_dataset_test, batch_size=64, shuffle=True)"
      ],
      "execution_count": 0,
      "outputs": []
    },
    {
      "cell_type": "code",
      "metadata": {
        "id": "_jlQLB4BrVs-",
        "colab_type": "code",
        "colab": {}
      },
      "source": [
        "data,labels = next(iter(attack_trainloader))\n",
        "# print(data.shape)\n",
        "# print(inputs.shape)\n",
        "# print(label.shape)\n",
        "# print(labels.shape)\n"
      ],
      "execution_count": 0,
      "outputs": []
    },
    {
      "cell_type": "code",
      "metadata": {
        "id": "ICinL7qwzbco",
        "colab_type": "code",
        "colab": {
          "base_uri": "https://localhost:8080/",
          "height": 35
        },
        "outputId": "39420440-89b2-42af-9de7-bdf920fb2827"
      },
      "source": [
        "data.shape"
      ],
      "execution_count": 32,
      "outputs": [
        {
          "output_type": "execute_result",
          "data": {
            "text/plain": [
              "torch.Size([64, 10])"
            ]
          },
          "metadata": {
            "tags": []
          },
          "execution_count": 32
        }
      ]
    },
    {
      "cell_type": "code",
      "metadata": {
        "id": "_ymKnj7QpdDG",
        "colab_type": "code",
        "colab": {}
      },
      "source": [
        "# create the Attack Model\n",
        "# A NN binary classifier {0, 1}\n",
        "# the input is a propability distribution and the output is 0 (out) or 1 (in in the training data)\n",
        "\n",
        "\n",
        "\n",
        "attack_model = attack_Net()\n",
        "attack_criterion = nn.CrossEntropyLoss()\n",
        "attack_optimizer = optim.SGD(attack_model.parameters(), lr=0.0001)\n",
        "\n",
        "\n"
      ],
      "execution_count": 0,
      "outputs": []
    },
    {
      "cell_type": "code",
      "metadata": {
        "id": "d8o43-OWVx7r",
        "colab_type": "code",
        "colab": {
          "base_uri": "https://localhost:8080/",
          "height": 35
        },
        "outputId": "8248e5c6-4af5-4d71-99af-c5bab8182824"
      },
      "source": [
        "attack_loss "
      ],
      "execution_count": 35,
      "outputs": [
        {
          "output_type": "execute_result",
          "data": {
            "text/plain": [
              "tensor(0.7160, grad_fn=<NllLossBackward>)"
            ]
          },
          "metadata": {
            "tags": []
          },
          "execution_count": 35
        }
      ]
    },
    {
      "cell_type": "code",
      "metadata": {
        "id": "iZqFSj-GOqwE",
        "colab_type": "code",
        "colab": {}
      },
      "source": [
        "inputs,labels = next(iter(attack_trainloader))\n",
        "attack_optimizer.zero_grad()\n",
        "outputs = attack_model(inputs)\n",
        "attack_loss = attack_criterion(outputs, labels)\n"
      ],
      "execution_count": 0,
      "outputs": []
    },
    {
      "cell_type": "code",
      "metadata": {
        "id": "QGonmUfxYL72",
        "colab_type": "code",
        "colab": {
          "base_uri": "https://localhost:8080/",
          "height": 35
        },
        "outputId": "cc01d5cc-7454-48dd-dcb0-470bc1983d09"
      },
      "source": [
        "attack_loss.backward"
      ],
      "execution_count": 39,
      "outputs": [
        {
          "output_type": "execute_result",
          "data": {
            "text/plain": [
              "<bound method Tensor.backward of tensor(0.6847, grad_fn=<NllLossBackward>)>"
            ]
          },
          "metadata": {
            "tags": []
          },
          "execution_count": 39
        }
      ]
    },
    {
      "cell_type": "code",
      "metadata": {
        "id": "W9Qr2bZ3OnAG",
        "colab_type": "code",
        "colab": {
          "base_uri": "https://localhost:8080/",
          "height": 1000
        },
        "outputId": "777d82eb-f41b-4864-ca0a-4bbf40a5d051"
      },
      "source": [
        "# let the magic begin\n",
        "\n",
        "for epoch in range(60):  # loop over the dataset multiple times\n",
        "\n",
        "    attack_running_loss = 0.0\n",
        "    \n",
        "    for i, data in enumerate(attack_trainloader, 0):\n",
        "        # get the inputs; data is a list of [inputs, labels]\n",
        "        inputs, labels = data\n",
        "        # zero the parameter gradients\n",
        "        attack_optimizer.zero_grad()\n",
        "      \n",
        "        # forward + backward + optimize\n",
        "        outputs = attack_model(inputs) # make a prediction: forward prop\n",
        "        loss = attack_criterion(outputs, labels) # calculate the loss\n",
        "        \n",
        "        loss.backward # calculate gradients\n",
        "        \n",
        "        \n",
        "        attack_optimizer.step() # updaate weights in backprop\n",
        "\n",
        "        # print statistics\n",
        "        attack_running_loss += loss.item()\n",
        "       \n",
        "    print(attack_running_loss / len(new_dataset_train))\n",
        "    attack_running_loss = 0.0"
      ],
      "execution_count": 47,
      "outputs": [
        {
          "output_type": "stream",
          "text": [
            "0.016487046897411345\n",
            "0.01648773639202118\n",
            "0.01648845656514168\n",
            "0.016484925359487534\n",
            "0.016490933442115784\n",
            "0.01648648697733879\n",
            "0.016489733159542084\n",
            "0.0164887145280838\n",
            "0.016490404307842255\n",
            "0.016486856919527053\n",
            "0.016486959367990495\n",
            "0.016487771570682527\n",
            "0.01648732855916023\n",
            "0.016488225400447844\n",
            "0.016487630140781404\n",
            "0.016487243795394898\n",
            "0.0164856147646904\n",
            "0.01648457322716713\n",
            "0.016482829511165618\n",
            "0.016486203861236573\n",
            "0.016486893892288208\n",
            "0.016488333708047868\n",
            "0.01648681117296219\n",
            "0.016489932876825333\n",
            "0.01648698566555977\n",
            "0.01648803580403328\n",
            "0.016488836270570757\n",
            "0.016489018243551253\n",
            "0.016487020510435105\n",
            "0.0164882051885128\n",
            "0.01648566796183586\n",
            "0.016487164586782455\n",
            "0.01648633741736412\n",
            "0.016491242581605912\n",
            "0.016486447167396546\n",
            "0.016487557470798494\n",
            "0.016486964893341064\n",
            "0.016487406772375108\n",
            "0.0164871329665184\n",
            "0.016489304357767104\n",
            "0.016489972126483916\n",
            "0.016485809314250945\n",
            "0.016485335958004\n",
            "0.016485281985998152\n",
            "0.016487143886089326\n",
            "0.01648932799100876\n",
            "0.016488327276706696\n",
            "0.016486433947086335\n",
            "0.01648802399635315\n",
            "0.01648714599609375\n",
            "0.016487879115343093\n",
            "0.016484193396568297\n",
            "0.01648718040585518\n",
            "0.01648973571062088\n",
            "0.0164884005010128\n",
            "0.016487344074249267\n",
            "0.016490367287397386\n",
            "0.016488733649253844\n",
            "0.016485753482580186\n",
            "0.016486058354377747\n"
          ],
          "name": "stdout"
        }
      ]
    },
    {
      "cell_type": "code",
      "metadata": {
        "id": "lrnVO_FDV7XP",
        "colab_type": "code",
        "colab": {}
      },
      "source": [
        "attack_testloader = torch.utils.data.DataLoader(new_dataset_train, batch_size=64, shuffle=True)\n",
        "test_input,test_label = next(iter(attack_testloader))"
      ],
      "execution_count": 0,
      "outputs": []
    },
    {
      "cell_type": "code",
      "metadata": {
        "id": "09OzHVM169C8",
        "colab_type": "code",
        "colab": {}
      },
      "source": [
        "test_output = attack_model(test_input)"
      ],
      "execution_count": 0,
      "outputs": []
    },
    {
      "cell_type": "code",
      "metadata": {
        "id": "5BWZCFrd7EgZ",
        "colab_type": "code",
        "colab": {
          "base_uri": "https://localhost:8080/",
          "height": 72
        },
        "outputId": "04f50d67-bd9b-48a3-819a-3642086166f6"
      },
      "source": [
        "test_output.argmax(dim=1)"
      ],
      "execution_count": 72,
      "outputs": [
        {
          "output_type": "execute_result",
          "data": {
            "text/plain": [
              "tensor([1, 1, 1, 1, 1, 1, 1, 1, 1, 1, 1, 1, 1, 1, 1, 1, 1, 1, 1, 1, 1, 1, 1, 1,\n",
              "        1, 1, 1, 1, 1, 1, 1, 1, 1, 1, 1, 1, 1, 1, 1, 1, 1, 1, 1, 1, 1, 1, 1, 1,\n",
              "        1, 1, 1, 1, 1, 1, 1, 1, 1, 1, 1, 1, 1, 1, 1, 1])"
            ]
          },
          "metadata": {
            "tags": []
          },
          "execution_count": 72
        }
      ]
    },
    {
      "cell_type": "code",
      "metadata": {
        "id": "vndKLGUE7RF7",
        "colab_type": "code",
        "colab": {
          "base_uri": "https://localhost:8080/",
          "height": 72
        },
        "outputId": "993bfcaf-f8cb-4efc-fba4-b6494c3fc606"
      },
      "source": [
        "test_label"
      ],
      "execution_count": 73,
      "outputs": [
        {
          "output_type": "execute_result",
          "data": {
            "text/plain": [
              "tensor([0, 1, 1, 0, 0, 0, 0, 0, 1, 1, 1, 0, 0, 1, 1, 1, 0, 0, 1, 0, 0, 0, 0, 0,\n",
              "        0, 1, 0, 0, 1, 0, 1, 1, 0, 1, 1, 0, 0, 1, 0, 1, 1, 0, 0, 0, 1, 0, 0, 1,\n",
              "        0, 1, 0, 0, 0, 1, 1, 0, 1, 0, 1, 0, 1, 1, 0, 0])"
            ]
          },
          "metadata": {
            "tags": []
          },
          "execution_count": 73
        }
      ]
    },
    {
      "cell_type": "code",
      "metadata": {
        "id": "0J1B1OhMp6er",
        "colab_type": "code",
        "colab": {}
      },
      "source": [
        "# calculate the recall and precision of your attack network using the Target_out and Target_in datasets\n",
        "# to do so, take a random numer of datapoints, run them throw the target model,\n",
        "# and then input the output of the target model to your attack network \n",
        "# you already know the target_in and target_out samples, so use that info to evaluare the attack model\n"
      ],
      "execution_count": 0,
      "outputs": []
    },
    {
      "cell_type": "markdown",
      "metadata": {
        "id": "XMsyCgziqeaa",
        "colab_type": "text"
      },
      "source": [
        "Great! At this point, you must have created a succesfful attack model that can detect whether a datapoint was used in training a target mode or not. \n",
        "* A successful attack model is one with a precision/recall higher than 85% -- you are using same architecture and are aware of the data classes\n",
        "\n",
        " \n",
        " Can you suggest any defense mechanism? If yes, Apply them to your solution and re-evaluate your attack model. How did your defense mecanism affect the accuracy of the target model? How did it affect the recall and precision of the Attack model?"
      ]
    }
  ]
}